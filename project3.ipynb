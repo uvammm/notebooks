{
 "cells": [
  {
   "cell_type": "markdown",
   "metadata": {},
   "source": [
    "Team submitting this assignment:  \n",
    "_<b>list each member of your team here</b>_\n",
    "\n",
    "External resources used:  \n",
    "_it is not necessary to list the course materials, but if you used any other resources, including discussing problems with students not on your team, list them here_"
   ]
  },
  {
   "cell_type": "markdown",
   "metadata": {},
   "source": [
    "## Project 3: Matchmaker, Matchmaker"
   ]
  },
  {
   "cell_type": "markdown",
   "metadata": {},
   "source": [
    "<div class=\"alert alert-block alert-danger\" align=\"center\">\n",
    "<b>Due: 3:59pm, Friday, 22 February 2019<b>\n",
    "</div>\n",
    "\n",
    "This project focuses on the allocation of discrete goods without the use of money. \n",
    "\n",
    "You will examine the market for kidney donation in the United States. The National Organ Transplant Act of 1984 outlawed the purchase and sale of kidneys, preventing a pricing-based market. Since the early 2000s, economists and medical professionals have developed different solutions to the problem of allocating kidneys from donors to recipients. \n",
    "\n",
    "This project will guide you through the basics of discrete exchanges, and you will propose and implement your own method at the end.\n",
    "\n",
    "   <div class=\"alert alert-block alert-warning\">\n",
    "For this assignment, you should form your own team with the following constraints:\n",
    "\n",
    "- It must be three or four people.\n",
    "\n",
    "- At least one team member must be in the Economics section; at least one team member must be in the Computer Science section.\n",
    "\n",
    "- Your team cannot include a group of more than two people who have already worked together. (That is, it is okay if there are two pairs of people who have worked together on a previous assignment in a team of four, but not if there is a group of three people on a team who have worked together previously.)\n",
    "\n",
    "You should have your team formed by **Monday, 11 February** at the latest. If you are not on a team by then, contact the course staff. You are encouraged to use the `#teaming` channel in the course slack to find teammates.\n",
    "   </div>    "
   ]
  },
  {
   "cell_type": "markdown",
   "metadata": {},
   "source": [
    "### Kidney Exchange"
   ]
  },
  {
   "cell_type": "markdown",
   "metadata": {},
   "source": [
    "Humans are born with two kidneys, but can live well with just one healthy kidney. Hence, there is an opportunity for a live donor to donate a kidney to a patient whose kidneys have failed. \n",
    "\n",
    "There are two important factors when considering recipient and donor compatibility: blood type and tissue type. A recipient, $R$, and a donor, $D$, must pass both a blood type and tissue type compatibility test to be considered compatible for a transplant. \n",
    "\n",
    "1.  Blood Type Compatibility: The four blood types are <b>O</b>, <b>A</b>, <b>B</b>, and <b>AB</b>.\n",
    "\n",
    "    -   Type <b>O</b> is compatible with all other types (that is, a kidney from a donor with type **O** can be matched with a recipient with any blood type).\n",
    "\n",
    "    -   Type <b>A</b> is compatible with types <b>A</b> and **AB**.\n",
    "\n",
    "    -   Type <b>B</b> is compatible with types <b>B</b> and **AB**.\n",
    "\n",
    "    -   Type **AB** is compatible with type **AB**.\n",
    "    \n",
    "\n",
    "2.  Tissue Compatibility: Each recipient $R_i$ can be tissue-type incompatible with a donor. Tissue compatibility depends on the compatibility of immune system markers (HLA) between the donor and recipient. Roughly, the closeness of the HLA match required depends on the recipient's reactve immune system, measured as *percent reactive antibody* (PRA). For this project we discretize these values:\n",
    "\n",
    "    -   _Low-PRA_ individuals (about 70% of population) have less active antibodies. A _Low-PRA_ recipient has a 95% chance of being tissue-compatible with a randomly-selected donor.\n",
    "\n",
    "    -   _Medium-PRA_ individuals (about 20% of population) have a 55% chance of being tissue-compatible as a recipient for a randomly-selected donor.\n",
    "\n",
    "    -   _High-PRA_ individuals (about 10% of population) have a 10% changes of being tissue-compatible as a recipient for a randomly-selected donor.\n",
    "\n",
    "These tests are independent of one another. In order for a donor kidney to be acceptable, it must be both blood type compatible and tissue-type compatible with the recipient."
   ]
  },
  {
   "cell_type": "markdown",
   "metadata": {},
   "source": [
    "### Modeling Kidney Exchange\n",
    "\n",
    "The goal of a kidney exchange is to enable patients in need of a kidney who have someone willing to donate to them, but whose kidney is incompatible, find a chain of donor-recipients that enable the patient to receive a compatible kidney from another donor in exchange for this patient's willing donor donating a kidney to another patient.\n",
    "\n",
    "It is common to organize the market in the following way. Each recipient, $R_i$, is paired with their incompatible but willing donor, $D_i$. A market of size $N$ will have $N$ incompatible pairs {$(R_1-D_1),...,(R_n-D_n)$}. A donor will donate her kidney if and only if her paired but incompatible recipient also receives a kidney. \n",
    "\n",
    "We can model the market is a directed graph where each edge connects a donor with a compatible recipient. Thus, the edges represent all directly compatible exchanges. The problem the market designer faces is finding a method that will maximize the survival rate while accounting for the constraints on donations.\n",
    "\n",
    "Donation is usually done through _k_-way exchanges, which can be represented as cycles in the directed graph.\n",
    "\n",
    "A _two-way exchange_ is when a donor, $D_i$, donates to a recipient, $R_j$, whose incompatible partner $D_j$ then donates to $R_i$. For this exchange to work, $D_i$ must be compatible with $R_j$ and $D_j$ must be compatible with $R_i$. There are a total of two incompatible pairs, two donors and two recipients, in a two-way exchange. In a _three-way exchange_, the donor in pair 1 donates to pair 2, whose donor donates to pair 3, whose donor donates to pair 1. A _k-way exchange_ would have $k$ pairs donating in a cycle of length $k$.\n",
    "\n",
    "For more information, see [_Efficient Kidney Exchange: Coincidence of Wants in Markets with Compatibility-Based Preferences_](http://uvammm.github.io/docs/kidneyexchange.pdf) by Alvin E. Roth, Tayfun Sönmez and M. Utku Ünver, American Economic Review 2007. "
   ]
  },
  {
   "cell_type": "markdown",
   "metadata": {},
   "source": [
    "### Data\n",
    "\n",
    "Since the medical data such as what is needed for kidney exchange is sensitive, we will use simulated data. We have provided some simulated data in [`patients.csv`](https://raw.githubusercontent.com/uvammm/uvammm.github.io/master/projects/project3/patients.csv) drawn from the empirical distribution of characteristics. You should download this file, and save it in the directory where you are working on the notebook.\n",
    "\n",
    "The code we used to generate that data is here: [`simulator.py`](https://raw.githubusercontent.com/uvammm/uvammm.github.io/master/projects/project3/simulator.py) (you are welcome to run or modify that code to produce your own data, but the results you report for the problems should be done using the provided data).\n",
    "\n",
    "Each row represents an incompatible pair with the following fields:\n",
    "\n",
    "- `TimePeriod`: The time period when the pair entered the kidney exchange pool\n",
    "- `ReceiverTissueID`: A number representing the receiver's tissue characteristics\n",
    "- `ReceiverBloodType`: The receiver's blood type (`A`, `B`, `O` or `AB`)\n",
    "- `ReceiverPRA`: The receiver's PRA (`Low`, `Medium` or  `High`)\n",
    "- `ReceiverSurvivalPrb`: The probability that an unmatched receiver will survive till the next time period.\n",
    "- `DonorTissueID`: A number representing the donor's tissue characteristics\n",
    "- `DonorBloodType`: The donor's blood type (`A`, `B`, `O` or `AB`)\n",
    "\n",
    "Here is some sample code for reading that file:"
   ]
  },
  {
   "cell_type": "code",
   "execution_count": 10,
   "metadata": {},
   "outputs": [
    {
     "name": "stdout",
     "output_type": "stream",
     "text": [
      "['TimePeriod', 'ReceiverTissueID', 'ReceiverBloodType', 'ReceiverPRA', 'ReceiverSurvivalPrb', 'DonorTissueID', 'DonorBloodType']\n"
     ]
    }
   ],
   "source": [
    "import csv\n",
    "\n",
    "pairs = [] # list of (patient, donor) pairs\n",
    "with open('patients.csv', newline='') as csvfile:\n",
    "    simreader = csv.reader(csvfile, delimiter=',')\n",
    "    headers = next(simreader)\n",
    "    print(str(headers))\n",
    "    for row in simreader:\n",
    "        pairs.append({key: value for key, value in zip(headers, row)})"
   ]
  },
  {
   "cell_type": "code",
   "execution_count": 11,
   "metadata": {},
   "outputs": [
    {
     "name": "stdout",
     "output_type": "stream",
     "text": [
      "Number of patients: 600\n",
      "Patient 37 blood type: O\n",
      "Patient 598 donor tissue ID: 4902\n"
     ]
    }
   ],
   "source": [
    "print (\"Number of patients: \" + str(len(pairs)))\n",
    "print (\"Patient 37 blood type: \" + pairs[37]['ReceiverBloodType'])\n",
    "print (\"Patient 598 donor tissue ID: \" + pairs[598]['DonorTissueID'])"
   ]
  },
  {
   "cell_type": "markdown",
   "metadata": {},
   "source": [
    "## Two-Way Exchange\n",
    "\n",
    "In the first part of the assignment, you will clear the kidney exchange market using only two-way exchanges. The steps below will guide you through the process of computing a solution to the matching problem.\n",
    "\n",
    "We will take the given data as static, ignoring the TimePeriod and assuming all pairs are present and ready to be matched. Since the matching will occur over a single period, we will also ignore the ReceiverSurvivalPrb. Therefore, we will have a market with 599 pairs of agents.\n",
    "\n",
    "We have provided two functions that you can use to test for blood type, `is_blood_compatible`, and tissue type `is_tissue_compatible` compatibility.\n",
    "\n"
   ]
  },
  {
   "cell_type": "code",
   "execution_count": 12,
   "metadata": {},
   "outputs": [],
   "source": [
    "def is_blood_compatible(blood_don, blood_recv):\n",
    "    \"\"\"\n",
    "    This function returns True if the donor with blood type blood_don is\n",
    "    compatible with receiver with bood type blood_recv.\n",
    "    \"\"\"\n",
    "    if blood_don == 'O':\n",
    "        return True\n",
    "    elif blood_don == 'A':\n",
    "        return blood_recv in ('A', 'AB')\n",
    "    elif blood_don == 'B':\n",
    "        return blood_recv in ('B', 'AB')\n",
    "    elif blood_don == 'AB':\n",
    "        return blood_recv == 'AB'\n",
    "    else:\n",
    "        raise InvalidParameterException(\"Invalid blood type: \" \n",
    "                                        + blood_don)\n",
    "\n",
    "def is_tissue_compatible(recv_pra, recv_tissueid, don_tissueid):\n",
    "    \"\"\"\n",
    "    Modeling actual tissue compatibility is complex, and depends on\n",
    "    properties of different HLA markers and various other complications.\n",
    "    Instead of dealing with the medical complexities, we use a simple \n",
    "    model that produces a uniformly-distributed value that is dependent\n",
    "    on the two inputs, and outputs a discretized probability.\n",
    "    \n",
    "    It's not important to understand the following code. But you should \n",
    "    call this function with the receiver's PRA-type, receiver's tissue \n",
    "    ID, and the donor's tissue ID to check if their tissues are \n",
    "    compatible or not.\n",
    "    \n",
    "    Example usage: is_tissue_compatible('Low', 4474, 3587)\n",
    "    \"\"\"\n",
    "    \n",
    "    # This code is a convoluted way to approximate a random oracle on \n",
    "    # the tissue ids (so the output is uniformly random in [0, 1), \n",
    "    # but for a given tissue pair, the same output is always produced). \n",
    "    import hashlib\n",
    "    hexval = hashlib.md5((str(recv_tissueid) \n",
    "                          + str(don_tissueid)).encode()).hexdigest()\n",
    "    intval = int(hexval, 16)\n",
    "    b = intval / (1 << 129 - 1)  # map 128-bit number to 0-1\n",
    "    \n",
    "    if recv_pra == 'Low':\n",
    "        return b <= 0.95\n",
    "    elif recv_pra == 'Medium':\n",
    "        return b <= 0.45\n",
    "    else:  # high pra\n",
    "        assert recv_pra == 'High'\n",
    "        return b <= 0.10"
   ]
  },
  {
   "cell_type": "markdown",
   "metadata": {},
   "source": [
    "   <div class=\"alert alert-block alert-warning\">\n",
    "    <b>Problem 1.</b> Compute the mutual compatibility matrix, $\\textbf{C}$, for time period 1, where $c_{i,j}=1$ if recipient $i$ is compatible with donor $j$ and zero otherwise. You need to account for blood type and tissue type compatilbility when determining overall compatilbility of two agents. \n",
    "    </div>"
   ]
  },
  {
   "cell_type": "code",
   "execution_count": 13,
   "metadata": {},
   "outputs": [],
   "source": [
    "# Write your code here"
   ]
  },
  {
   "cell_type": "markdown",
   "metadata": {},
   "source": [
    "*Write your explanation here*"
   ]
  },
  {
   "cell_type": "markdown",
   "metadata": {},
   "source": [
    "   <div class=\"alert alert-block alert-warning\">\n",
    "\n",
    "<b>Problem 2.</b> Find the maximum matching given $\\textbf{C}$ if only two-way exchanges are allowed. For this, you may find the [_Top Trading Cycles algorithm_](https://people.cs.umass.edu/~sheldon/teaching/mhc/cs312/2014sp/Slides/top-trading-cycles.pdf) helpful. Your code should report total number of matched pairs. The target number of matched pairs should be around 320.\n",
    "    </div>"
   ]
  },
  {
   "cell_type": "code",
   "execution_count": 14,
   "metadata": {},
   "outputs": [],
   "source": [
    "# Write your code here"
   ]
  },
  {
   "cell_type": "markdown",
   "metadata": {},
   "source": [
    "Write your explation here"
   ]
  },
  {
   "cell_type": "markdown",
   "metadata": {},
   "source": [
    "   <div class=\"alert alert-block alert-warning\">\n",
    "\n",
    "<b>Problem 3.</b> Analyze the execution cost of your matching algorithm (for problem 2). A good answer will include both \n",
    "an asymptotic analysis, and a concrete discussion of how large an exchange problem it could reasonably scale to support.\n",
    "\n",
    "</div>"
   ]
  },
  {
   "cell_type": "markdown",
   "metadata": {},
   "source": [
    "## Three-Way Exchange\n",
    "\n",
    "For the second part of the assignment, you will extend your matching algorithm to allow both two- and three-way exchanges. You may also use $k$-way exchanges where $k\\geq4$. \n",
    "For this question, you will continue to use $\\textbf{C}$ from problem 1 in order to compare your results from both parts. (We will again take the given data as static, ignoring the `TimePeriod` and assuming all pairs are present and ready to be matched, just as in problem 1.)\n",
    "\n",
    "<div class=\"alert alert-block alert-warning\">\n",
    "\n",
    "<b>Problem 4.</b> Find the maximum matching given $\\textbf{C}$ from problem 1 and using two- and three-way exchanges (and optionally, support exchanges up to higher $k$. You will need to modify your code from the previous part to allow for cycles of up to 3 (or more) pairs. Your code should report the total number of matched pairs (not the number of cycles). You should see an increase of about 10% from your earlier two-way exchange.\n",
    "</div>"
   ]
  },
  {
   "cell_type": "code",
   "execution_count": 15,
   "metadata": {},
   "outputs": [],
   "source": [
    "# write your code here"
   ]
  },
  {
   "cell_type": "markdown",
   "metadata": {},
   "source": [
    "*Explain your answer here*"
   ]
  },
  {
   "cell_type": "markdown",
   "metadata": {},
   "source": [
    "## Efficiency in Two and Three-Way Exchanges\n",
    "[_Efficient Kidney Exchange: Coincidence of Wants in Markets with Compatibility-Based Preferences_](http://uvammm.github.io/docs/kidneyexchange.pdf) by Alvin E. Roth, Tayfun Sönmez and M. Utku Ünver provides the bound on the number of two-way and three-way matches.\n",
    "\n",
    "<div class=\"alert alert-block alert-warning\">\n",
    "\n",
    "<b>Problem 5.</b>\n",
    "How does the number of matches provided by your algorithm compare with the bound in the paper? If there is a discrepency, explain why.\n",
    "\n",
    "</div>\n"
   ]
  },
  {
   "cell_type": "markdown",
   "metadata": {},
   "source": [
    "_Explain your answer here_"
   ]
  },
  {
   "cell_type": "markdown",
   "metadata": {},
   "source": [
    "## Dynamic Exchange\n",
    "\n",
    "For the final part of the assignment, we will now take the market to be dynamic - instead of having a fixed set of patients and donors, new patients arrive over time (and old patients die if they do not receive a donor kidney). The goal is to maximize the overall survival of the population.\n",
    "\n",
    "We have provided a function that simulates patient survival with a simple random draw. For each unmatch patient at the end of a time period, their probability of surviving to the next time period is given by the `ReceiverSurvivalPrb` field in the data."
   ]
  },
  {
   "cell_type": "code",
   "execution_count": 16,
   "metadata": {},
   "outputs": [],
   "source": [
    "# This function returns True if an unmatched receiver survives\n",
    "def survival(survivalprob):\n",
    "    import random\n",
    "    draw = random.random()\n",
    "    return draw <= survivalprob"
   ]
  },
  {
   "cell_type": "markdown",
   "metadata": {},
   "source": [
    "Devlop a matching procedure that can maximize the number of matches over the six time periods in the simulated dataset accounting for patient survival.\n",
    "\n",
    "Explain your procedure and why you think each element will help maximize the number of matches. The process is explained below:   \n",
    "\n",
    "1. Start in TimePeriod $t$. You will implement a matching procedure and record the total number of matched agents. Those who are matched will be removed from the pool. \n",
    "\n",
    "2. Use the provided function `survival()` to evaluate each of the unmatched agents. If the function returns False, the agent perishes and cannot be carried over into the next month. Record the number of agents who perish and the number of agents who survive. (Note: If a patient dies, her donor is no longer willing to donate, so both the patient and donor are eliminated.)\n",
    "\n",
    "3. Add the surviving pairs of agents to the stock for TimePeriod $t+1$\n",
    "\n",
    "4. Repeat (1)-(4) for all six time periods\n",
    "\n",
    "Your task is to implement a dynamic matching process that maximizes overall survival for this model. For this problem, you will want to divide your code into several functions. You should integrate your code and explanations in a way that makes it easy for a reader to understand your approach, see how you evaluate it, and connect your description to the code.\n",
    "\n",
    "<div class=\"alert alert-block alert-warning\">\n",
    "\n",
    "<b>Problem 6.</b> Develop a matching algorithm that maximizes overall survival in the model where new pairs arrive each time period, and unmatched patients die with the given probability. Your code should provide clear outputs that report both the number of matches and the survival rate for each time period. You should not use any of the data from future time periods in determining what to do for the current time period.\n",
    "</div>\n",
    "\n",
    "<b>Hints</b>: Since each time period has a smaller market than the previous problems, you may want to develop strategies to thicken the market in order to increase the expected number of compatible pairs. The most obvious strategies greedily find all available matches in each time period, but better strategies may sometimes delay matches. You may be it useful to predict the likelihood that a useful donor kidney arrives in the next time period by estimating the probability a random kidney is compatible."
   ]
  },
  {
   "cell_type": "markdown",
   "metadata": {},
   "source": [
    "*Explain your answer here*"
   ]
  },
  {
   "cell_type": "code",
   "execution_count": null,
   "metadata": {},
   "outputs": [],
   "source": []
  },
  {
   "cell_type": "markdown",
   "metadata": {},
   "source": [
    "## Price-based Market For Kidney Transplantations\n",
    "\n",
    "[_Efficient Kidney Exchange: Coincidence of Wants in Markets with Compatibility-Based Preferences_](http://uvammm.github.io/docs/kidneyexchange.pdf) discusses the design of a hypothetical competitive market for kidney transplants and derives the properties of market equilibrium. \n",
    "\n",
    "<div class=\"alert alert-block alert-warning\">\n",
    "    <b>Problem 7.</b> Discuss your intuition of how the prices for donors of different types should compare and how the properties of competitive prices described in the paper compares with your intuition (ideally, informed by the results of your simulations in the earlier problems).    </div>"
   ]
  },
  {
   "cell_type": "markdown",
   "metadata": {},
   "source": [
    "_your answer here_"
   ]
  },
  {
   "cell_type": "markdown",
   "metadata": {},
   "source": [
    "<div class=\"alert alert-block alert-danger\">\n",
    "    \n",
    "Submit your Project 3 notebook by **Friday, 22 February, 3:59pm** by creating a slack group (click “Direct Messages”) containing you and all of your teammatse and the four course staff: `@Dave` `@Denis Nekipelov` `@Joe Roessler` `@Jonas`. Submit your project to that group chat by attaching your jupyter notebook to a message (use the “+” at the left of the message entry field to attach a file).\n",
    "\n",
    "</div>"
   ]
  }
 ],
 "metadata": {
  "kernelspec": {
   "display_name": "Python 3",
   "language": "python",
   "name": "python3"
  },
  "language_info": {
   "codemirror_mode": {
    "name": "ipython",
    "version": 3
   },
   "file_extension": ".py",
   "mimetype": "text/x-python",
   "name": "python",
   "nbconvert_exporter": "python",
   "pygments_lexer": "ipython3",
   "version": "3.7.1"
  }
 },
 "nbformat": 4,
 "nbformat_minor": 2
}
