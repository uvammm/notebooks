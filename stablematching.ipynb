{
 "cells": [
  {
   "cell_type": "markdown",
   "metadata": {},
   "source": [
    "# Stable Matching\n",
    "\n",
    "(For [_Markets, Mechanisms, Machines_, Class 7](http://uvammm.github.io/class7).)\n"
   ]
  },
  {
   "cell_type": "markdown",
   "metadata": {},
   "source": [
    "## Gale-Shapley Agorithm"
   ]
  },
  {
   "cell_type": "code",
   "execution_count": 3,
   "metadata": {},
   "outputs": [],
   "source": [
    "def gale_shapley(A, B):\n",
    "    # This is non-defensively programmed for simplicity, but should include lots of checks and assertions.\n",
    "    pairings = {} \n",
    "    unpaired = set(a for a in A.keys()) \n",
    "    proposals = {a: 0 for a in A.keys()}\n",
    "    \n",
    "    while unpaired:\n",
    "        a = unpaired.pop()\n",
    "        ap = A[a] \n",
    "        choice = ap[proposals[a]]\n",
    "        proposals[a] += 1\n",
    "        if choice in pairings: \n",
    "            amatch = pairings[choice]\n",
    "            bp = B[choice]\n",
    "            if bp.index(a) < bp.index(amatch):\n",
    "                pairings[choice] = a\n",
    "                unpaired.add(amatch) \n",
    "            else:\n",
    "                unpaired.add(a)\n",
    "        else:\n",
    "            pairings[choice] = a\n",
    "\n",
    "    return [(a, b) for (b, a) in pairings.items()]"
   ]
  },
  {
   "cell_type": "markdown",
   "metadata": {},
   "source": [
    "The inputs are two sets with the same number of elements. Each set element is a name, followed by a list of that name's matches (in the opposite set), in preference order. We apologize in advance for the traditional sexist and speciest assumptions in our example, not to mention the flawed understanding of the deeper subtleties of _Frozen_ these preference lists reveal."
   ]
  },
  {
   "cell_type": "code",
   "execution_count": 5,
   "metadata": {},
   "outputs": [],
   "source": [
    "frozen_females = {\"Anna\": [\"Kristoff\", \"Olaf\"],\n",
    "                  \"Elsa\": [\"Olaf\", \"Kristoff\"]}\n",
    "frozen_others = {\"Kristoff\": [\"Anna\", \"Elsa\"],\n",
    "                 \"Olaf\": [\"Elsa\", \"Anna\"]}"
   ]
  },
  {
   "cell_type": "code",
   "execution_count": 6,
   "metadata": {},
   "outputs": [
    {
     "data": {
      "text/plain": [
       "[('Anna', 'Kristoff'), ('Elsa', 'Olaf')]"
      ]
     },
     "execution_count": 6,
     "metadata": {},
     "output_type": "execute_result"
    }
   ],
   "source": [
    "gale_shapley(frozen_females, frozen_others)"
   ]
  },
  {
   "cell_type": "code",
   "execution_count": 7,
   "metadata": {},
   "outputs": [
    {
     "data": {
      "text/plain": [
       "[('Kristoff', 'Anna'), ('Olaf', 'Elsa')]"
      ]
     },
     "execution_count": 7,
     "metadata": {},
     "output_type": "execute_result"
    }
   ],
   "source": [
    "gale_shapley(frozen_others, frozen_females)"
   ]
  },
  {
   "cell_type": "markdown",
   "metadata": {},
   "source": [
    "In this case, the results are the same. But, the matching algorithm is asymmetrical. For example,"
   ]
  },
  {
   "cell_type": "code",
   "execution_count": 9,
   "metadata": {},
   "outputs": [],
   "source": [
    "A = {\"Alice\": [\"Bob\", \"Billy\", \"Brian\"],\n",
    "     \"Amy\": [\"Billy\", \"Bob\", \"Brian\"],\n",
    "     \"Alyssa\": [\"Bob\", \"Brian\", \"Billy\"]}\n",
    "B = {\"Bob\": [\"Alice\", \"Amy\", \"Alyssa\"],\n",
    "     \"Billy\": [\"Alice\", \"Amy\", \"Alyssa\"],\n",
    "     \"Brian\": [\"Alyssa\", \"Amy\", \"Alice\"]}"
   ]
  },
  {
   "cell_type": "code",
   "execution_count": 10,
   "metadata": {},
   "outputs": [
    {
     "data": {
      "text/plain": [
       "[('Amy', 'Billy'), ('Alyssa', 'Brian'), ('Alice', 'Bob')]"
      ]
     },
     "execution_count": 10,
     "metadata": {},
     "output_type": "execute_result"
    }
   ],
   "source": [
    "gale_shapley(A, B)"
   ]
  },
  {
   "cell_type": "code",
   "execution_count": 11,
   "metadata": {},
   "outputs": [
    {
     "data": {
      "text/plain": [
       "[('Billy', 'Amy'), ('Bob', 'Alice'), ('Brian', 'Alyssa')]"
      ]
     },
     "execution_count": 11,
     "metadata": {},
     "output_type": "execute_result"
    }
   ],
   "source": [
    "gale_shapley(B, A)"
   ]
  },
  {
   "cell_type": "code",
   "execution_count": 17,
   "metadata": {},
   "outputs": [],
   "source": [
    "Students = {\"Avery\": [\"Computer Science\", \"Economics\", \"Music\"],\n",
    "            \"Blake\": [\"Music\", \"Computer Science\", \"Economics\"],\n",
    "            \"Corey\": [\"Economics\", \"Music\", \"Computer Science\"] }\n",
    "Majors = {\"Computer Science\": [\"Blake\", \"Corey\", \"Avery\"],\n",
    "          \"Economics\": [\"Corey\", \"Avery\", \"Blake\"],\n",
    "          \"Music\": [\"Avery\", \"Blake\", \"Corey\"]}\n"
   ]
  },
  {
   "cell_type": "code",
   "execution_count": 18,
   "metadata": {},
   "outputs": [
    {
     "data": {
      "text/plain": [
       "[('Avery', 'Computer Science'), ('Blake', 'Music'), ('Corey', 'Economics')]"
      ]
     },
     "execution_count": 18,
     "metadata": {},
     "output_type": "execute_result"
    }
   ],
   "source": [
    "gale_shapley(Students, Majors)"
   ]
  },
  {
   "cell_type": "code",
   "execution_count": 19,
   "metadata": {},
   "outputs": [
    {
     "data": {
      "text/plain": [
       "[('Economics', 'Corey'), ('Computer Science', 'Blake'), ('Music', 'Avery')]"
      ]
     },
     "execution_count": 19,
     "metadata": {},
     "output_type": "execute_result"
    }
   ],
   "source": [
    "gale_shapley(Majors, Students)"
   ]
  },
  {
   "cell_type": "markdown",
   "metadata": {},
   "source": [
    "There is one other stable matching possible: everyone gets their second choice!"
   ]
  }
 ],
 "metadata": {
  "kernelspec": {
   "display_name": "Python 3",
   "language": "python",
   "name": "python3"
  },
  "language_info": {
   "codemirror_mode": {
    "name": "ipython",
    "version": 3
   },
   "file_extension": ".py",
   "mimetype": "text/x-python",
   "name": "python",
   "nbconvert_exporter": "python",
   "pygments_lexer": "ipython3",
   "version": "3.5.2"
  }
 },
 "nbformat": 4,
 "nbformat_minor": 2
}
