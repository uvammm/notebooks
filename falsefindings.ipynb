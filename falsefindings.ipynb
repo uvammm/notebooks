{
 "cells": [
  {
   "cell_type": "markdown",
   "metadata": {},
   "source": [
    "# Why Most Published Research Findings are False\n",
    "\n",
    "Based on the essay by John Oiannidis: [_Why Most Published Research Findings are False_](https://journals.plos.org/plosmedicine/article?id=10.1371/journal.pmed.0020124), PLoS Medicine, August 2005.\n"
   ]
  },
  {
   "cell_type": "markdown",
   "metadata": {},
   "source": [
    "_R_ is the ratio of *true relationships* to *not true relationships*. For example, if we are doing a genome association study and there are 100,000 markers, and we expect 10 to be correlated with the condition, we would have:"
   ]
  },
  {
   "cell_type": "code",
   "execution_count": 54,
   "metadata": {},
   "outputs": [],
   "source": [
    "R = 10 / (100000 - 10)"
   ]
  },
  {
   "cell_type": "markdown",
   "metadata": {},
   "source": [
    "Thus, the a priori probability that a tested relationship (randomly selected) is true is _R / (R_ + 1)."
   ]
  },
  {
   "cell_type": "code",
   "execution_count": 55,
   "metadata": {},
   "outputs": [],
   "source": [
    "p = R / (R + 1)"
   ]
  },
  {
   "cell_type": "markdown",
   "metadata": {},
   "source": [
    "The probability of a Type I (false positive) error is &alpha;:"
   ]
  },
  {
   "cell_type": "code",
   "execution_count": 56,
   "metadata": {},
   "outputs": [],
   "source": [
    "alpha = 0.05"
   ]
  },
  {
   "cell_type": "markdown",
   "metadata": {},
   "source": [
    "The statistical power of the experiment, 1 - &Beta;, is the likelihood of finding an effect if there really is one. Typical experiments aim for statistical power of 0.8. The probability of a Type II (flase negative) error is &Beta;:"
   ]
  },
  {
   "cell_type": "code",
   "execution_count": 57,
   "metadata": {},
   "outputs": [],
   "source": [
    "beta = 0.2"
   ]
  },
  {
   "cell_type": "markdown",
   "metadata": {},
   "source": [
    "So, the probability the is a true relationship and the outcome of the experiment finds it is _p_(1 - &Beta;):"
   ]
  },
  {
   "cell_type": "code",
   "execution_count": 58,
   "metadata": {},
   "outputs": [],
   "source": [
    "pyy = (1 - beta) * p"
   ]
  },
  {
   "cell_type": "markdown",
   "metadata": {},
   "source": [
    "The probability that there is no true relationship and the outcome of the experiment is true is (1 - _p_)&alpha;:"
   ]
  },
  {
   "cell_type": "code",
   "execution_count": 59,
   "metadata": {},
   "outputs": [],
   "source": [
    "pny = (1 - p) * alpha"
   ]
  },
  {
   "cell_type": "markdown",
   "metadata": {},
   "source": [
    "The positive predictive value of the experiment is the number of true positives / total number of positive outcomes:"
   ]
  },
  {
   "cell_type": "code",
   "execution_count": 60,
   "metadata": {},
   "outputs": [],
   "source": [
    "PPV = pyy / (pny + pyy)"
   ]
  },
  {
   "cell_type": "code",
   "execution_count": 61,
   "metadata": {},
   "outputs": [
    {
     "data": {
      "text/plain": [
       "0.001597603594608088"
      ]
     },
     "execution_count": 61,
     "metadata": {},
     "output_type": "execute_result"
    }
   ],
   "source": [
    "PPV"
   ]
  },
  {
   "cell_type": "markdown",
   "metadata": {},
   "source": [
    "Yikes! The likelihood of the research finding being false is over 99%:"
   ]
  },
  {
   "cell_type": "code",
   "execution_count": 62,
   "metadata": {},
   "outputs": [
    {
     "name": "stdout",
     "output_type": "stream",
     "text": [
      "99.84023964053918\n"
     ]
    }
   ],
   "source": [
    "print(100 * (1 - PPV))"
   ]
  },
  {
   "cell_type": "markdown",
   "metadata": {},
   "source": [
    "Let's try varying _R_ and hope things get better..."
   ]
  },
  {
   "cell_type": "code",
   "execution_count": 63,
   "metadata": {},
   "outputs": [],
   "source": [
    "def compute_ppv(R, alpha, beta):\n",
    "    p = R / (R + 1)\n",
    "    pyy = (1 - beta) * p\n",
    "    pny = (1 - p) * alpha\n",
    "    return pyy / (pny + pyy)"
   ]
  },
  {
   "cell_type": "code",
   "execution_count": 64,
   "metadata": {},
   "outputs": [
    {
     "data": {
      "text/plain": [
       "0.001597603594608088"
      ]
     },
     "execution_count": 64,
     "metadata": {},
     "output_type": "execute_result"
    }
   ],
   "source": [
    "compute_ppv(R, alpha, beta)"
   ]
  },
  {
   "cell_type": "code",
   "execution_count": 65,
   "metadata": {},
   "outputs": [
    {
     "name": "stdout",
     "output_type": "stream",
     "text": [
      "R = 0.00010000, PPV = 0.00160\n",
      "R = 0.00100000, PPV = 0.01575\n",
      "R = 0.01000000, PPV = 0.13793\n",
      "R = 0.10000000, PPV = 0.61538\n",
      "R = 0.50000000, PPV = 0.88889\n",
      "R = 1.00000000, PPV = 0.94118\n"
     ]
    }
   ],
   "source": [
    "for R in [1/n for n in (10000, 1000, 100, 10, 2, 1)]:\n",
    "        print(\"R = {0:1.8f}, PPV = {1:1.5f}\".format(R, compute_ppv(R, alpha, beta)))"
   ]
  },
  {
   "cell_type": "markdown",
   "metadata": {},
   "source": [
    "This is the best case, assuming no bias. In reality, there are many sources of bias, and most of them are positive (increasing the likelihood of a true outcome from the experiment). These include publication bias (researchers try lots of things, but only publish the ones that work), flaws in experimental design, and nefarious sources of bias such as conflicts of interests and cherry-picking results."
   ]
  },
  {
   "cell_type": "code",
   "execution_count": 66,
   "metadata": {},
   "outputs": [],
   "source": [
    "def compute_ppv(R, alpha, beta, u): # bias u\n",
    "    p = R / (R + 1)\n",
    "    pyy = (1 - beta + u * beta) * p\n",
    "    pny = (1 - p) * (alpha + u * (1 - alpha))\n",
    "    return pyy / (pny + pyy)"
   ]
  },
  {
   "cell_type": "code",
   "execution_count": 67,
   "metadata": {},
   "outputs": [],
   "source": [
    "R = 0.1"
   ]
  },
  {
   "cell_type": "code",
   "execution_count": 68,
   "metadata": {},
   "outputs": [
    {
     "name": "stdout",
     "output_type": "stream",
     "text": [
      "R = 0.100, u = 0.000, PPV = 0.61538\n",
      "R = 0.100, u = 0.010, PPV = 0.57409\n",
      "R = 0.100, u = 0.050, PPV = 0.45378\n",
      "R = 0.100, u = 0.100, PPV = 0.36123\n",
      "R = 0.100, u = 0.200, PPV = 0.25926\n",
      "R = 0.100, u = 0.300, PPV = 0.20428\n"
     ]
    }
   ],
   "source": [
    "for u in (0.0, 0.01, 0.05, 0.10, 0.20, 0.3):\n",
    "        print(\"R = {R:1.3f}, u = {u:1.3f}, PPV = {ppv:1.5f}\".format(R = R, u = u, ppv = compute_ppv(R, alpha, beta, u)))"
   ]
  },
  {
   "cell_type": "code",
   "execution_count": null,
   "metadata": {},
   "outputs": [],
   "source": []
  }
 ],
 "metadata": {
  "kernelspec": {
   "display_name": "Python 3",
   "language": "python",
   "name": "python3"
  },
  "language_info": {
   "codemirror_mode": {
    "name": "ipython",
    "version": 3
   },
   "file_extension": ".py",
   "mimetype": "text/x-python",
   "name": "python",
   "nbconvert_exporter": "python",
   "pygments_lexer": "ipython3",
   "version": "3.5.2"
  }
 },
 "nbformat": 4,
 "nbformat_minor": 2
}
