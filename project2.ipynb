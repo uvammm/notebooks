{
 "cells": [
  {
   "cell_type": "markdown",
   "metadata": {},
   "source": [
    "## Project 2: Causality between unemployment and home values"
   ]
  },
  {
   "cell_type": "markdown",
   "metadata": {},
   "source": [
    "Propose the model that can estimate a causal impact of unemployment on the housing price index that would take advantage of the \"great recession\" in 2008-2012 that affected both the housing prices and unemployment but at different moments in time. Provide arguments and empirical evidence of your model indeed measuring the causal impact.\"\n",
    "\n",
    "In this project, we will learn how to estimate the causual relationship between two events. In particular, we will use unemployment and housing price data during the 2008-2012 recession to try to estimate if there is a causual relationship between unemployment and housing prices, and if so in which direction."
   ]
  },
  {
   "cell_type": "markdown",
   "metadata": {},
   "source": [
    "### Downloading the data\n",
    "For this project, we will make use of US county-level housing price index data from Zillow, and American Census Survey (ACS) data from US Census Bureau.\n",
    "\n",
    "First, download the Zillow county-level housing data [from this link](http://files.zillowstatic.com/research/public/County.zip).\n",
    "\n",
    "Next, download the ACS data [from here](https://factfinder.census.gov/faces/tableservices/jsf/pages/productview.xhtml?pid=ACS_10_1YR_S0501&prodType=table). Once you visit the link, click on the \"Add/Remove Geographies\" link, then from the \"select a geographic type\" dropdown, select \"County - 050\". Then choose \"Select all counties within United States\", and click \"add to your selection\". Next, click \"show table\". Now, click on the \"Download\" link to save the data. This gives you data from 2010. You can choose other years by clicking on links towards the left of the webpage.\n",
    "\n",
    "Once you have download the two files above, extract them. The Zillow data has 100+ files (as you should know having done the first project), and you need to choose which files are relevant. On the other hand, the ACS data is contained in one large csv file which includes all the variables. \n",
    "\n",
    "### Merging the two datasets\n",
    "\n",
    "Your first task is to merge data from the two datasets based on county codes. Below we provide an example of how to do this merging for the `County_Zhvi_AllHomes.csv` file from the Zillow dataset and the `ACS_10_1YR_S0501_with_ann.csv` file from the ACS dataset.\n",
    "\n",
    "As with project 1, we will use `pandas` and `numpy` Python libraries."
   ]
  },
  {
   "cell_type": "code",
   "execution_count": 1,
   "metadata": {
    "collapsed": true
   },
   "outputs": [],
   "source": [
    "import pandas as pd\n",
    "import numpy as np\n",
    "import statsmodels.api as sm"
   ]
  },
  {
   "cell_type": "markdown",
   "metadata": {},
   "source": [
    "First load the two files you want to merge:"
   ]
  },
  {
   "cell_type": "code",
   "execution_count": 2,
   "metadata": {
    "collapsed": true
   },
   "outputs": [],
   "source": [
    "df_zhvi = pd.read_csv('County/County_Zhvi_AllHomes.csv', encoding='ISO-8859-1') # zillow zhvi data\n",
    "df_acs = pd.read_csv('ACS_10_1YR_S0501_with_ann.csv', encoding='ISO-8859-1') # acs data"
   ]
  },
  {
   "cell_type": "markdown",
   "metadata": {},
   "source": [
    "Before we can merge, we need to first combine the `StateCodeFIPS` and `MunicipalCodeFIPS` columns in the Zillow data. This is done as follows:"
   ]
  },
  {
   "cell_type": "code",
   "execution_count": 3,
   "metadata": {
    "collapsed": true
   },
   "outputs": [],
   "source": [
    "df_zhvi['StateCodeFIPS'] = df_zhvi['StateCodeFIPS'].apply(lambda x: str(x).zfill(2))\n",
    "df_zhvi['MunicipalCodeFIPS'] = df_zhvi['MunicipalCodeFIPS'].apply(lambda x: str(x).zfill(3))\n",
    "df_zhvi['FIPS'] = df_zhvi['StateCodeFIPS'] + df_zhvi['MunicipalCodeFIPS']"
   ]
  },
  {
   "cell_type": "markdown",
   "metadata": {},
   "source": [
    "Next, we rename the corresponding column in the ACS dataframe:"
   ]
  },
  {
   "cell_type": "code",
   "execution_count": 4,
   "metadata": {
    "collapsed": true
   },
   "outputs": [],
   "source": [
    "df_acs = df_acs.rename(columns={'GEO.id2': 'FIPS'})"
   ]
  },
  {
   "cell_type": "markdown",
   "metadata": {},
   "source": [
    "Now we merge the two dataframes:"
   ]
  },
  {
   "cell_type": "code",
   "execution_count": 5,
   "metadata": {
    "collapsed": true
   },
   "outputs": [],
   "source": [
    "df_merged = pd.merge(df_zhvi, df_acs, on=['FIPS']) # merge on FIPS code"
   ]
  },
  {
   "cell_type": "markdown",
   "metadata": {},
   "source": [
    "`df_merged` now contains a row for each county in the US, with all the variables from both Zillow and ACS datasets. If you want to use multi-year data from ACS, you merge multiple files in the same way as above (you may need to rename the column names, but it shouldn't be hard)."
   ]
  },
  {
   "cell_type": "markdown",
   "metadata": {},
   "source": [
    "### Establishing causality between home values and unemployment\n",
    "\n",
    "With the above data at hand, try to establish a casual link between home values and umemployment. The data available range from 2006 through 2017, however you should focus on the period known as the Great Recession. During this time, the volatile state of the economy generated considerable variation in housing prices and unemployment levels across the United States. Using this variation, you should attempt to identify a causal link between these two variables. Many demographic controls are available in the ACS data that you should consider including in your model. Your task is to determine the direction of causality."
   ]
  },
  {
   "cell_type": "markdown",
   "metadata": {},
   "source": [
    "<div class=\"alert alert-block alert-warning\">\n",
    "Q1: Propose an empirical model that relates the housing price index (ZHVI) and unemployment. Argue if this model can be used for causal inference (recall that dependence between two variables can be induced by common factors shifting them rather than actual dependence).\n",
    "</div>"
   ]
  },
  {
   "cell_type": "markdown",
   "metadata": {},
   "source": [
    "<div class=\"alert alert-block alert-warning\">\n",
    "Q2: Propose an empirical strategy that will allow you to estimate causal impact of unemployment on the housing price by using variation in unemployment and the housing prices that was induced by the \"great recesssion\". Provide an arguement as to why your model is indentified and discuss any potential potential limitations.\n",
    "</div>"
   ]
  },
  {
   "cell_type": "code",
   "execution_count": null,
   "metadata": {
    "collapsed": true
   },
   "outputs": [],
   "source": [
    "<div class=\"alert alert-block alert-warning\">\n",
    "Q3: Discuss the similarities and differences between the empirical strategy you used to \n",
    "    identify causal impact of unemployment on prices with the approach that was suggested to \n",
    "    be used to estimate the average treatment effect in Donald Rubin's \n",
    "    \"Causal inference using potential outcomes: Design, modeling, decisions.\" \n",
    "    Journal of the American Statistical Association 100.469 (2005): 322-331. \n",
    "</div>"
   ]
  }
 ],
 "metadata": {
  "kernelspec": {
   "display_name": "Python [Root]",
   "language": "python",
   "name": "Python [Root]"
  },
  "language_info": {
   "codemirror_mode": {
    "name": "ipython",
    "version": 2
   },
   "file_extension": ".py",
   "mimetype": "text/x-python",
   "name": "python",
   "nbconvert_exporter": "python",
   "pygments_lexer": "ipython2",
   "version": "2.7.11"
  }
 },
 "nbformat": 4,
 "nbformat_minor": 2
}
