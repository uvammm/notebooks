{
 "cells": [
  {
   "cell_type": "markdown",
   "metadata": {},
   "source": [
    "# Class 9: Linear Programming\n",
    "\n",
    "https://uvammm.github.io/class9/"
   ]
  },
  {
   "cell_type": "code",
   "execution_count": 3,
   "metadata": {},
   "outputs": [],
   "source": [
    "from scipy.optimize import linprog"
   ]
  },
  {
   "attachments": {},
   "cell_type": "markdown",
   "metadata": {},
   "source": [
    "# Brewer's Problem\n",
    "\n",
    "(Problem based on Robert Sedgewick and Kevin Wayne, Princeton Course: http://www.cs.princeton.edu/courses/archive/spring11/cos226/lectures/99LinearProgramming.pdf)\n",
    "\n",
    "**Objective:** Maxmimize Profits, \\\\$13 per barrel of Ale, \\\\$23 per barrel of Beer\n",
    "$$ Profits = 13A + 23B$$\n",
    "\n",
    "**Constraints:** From the recipes, to make Ale requires 5 pounds of corn, 4 ounces of hops, and 35 pounds of malt; to make beer requires 15 points of corn, 4 onces of hops, and 20 points of malt. For each incredient, we have a constraint that limits usage to the total amount available:\n",
    "\n",
    "$$\n",
    "5A + 15B \\le 480 \\\\\n",
    "4A + 4B \\le 160 \\\\\n",
    "35A + 20B \\le 1190\n",
    "$$\n",
    "We also constrain the outputs to be non-negative:\n",
    "$$\n",
    "A \\ge 0, B \\ge 0\n",
    "$$\n",
    "\n",
    "**Note:** in considering this a Linear Programming problem, we are assuming we can make partial barrels (that the $A$ and $B$ variables are real numbers). Otherwise, it would be an Integer Programming problem. (Luckily, it turns out that the numbers selected have an integer solution.)"
   ]
  },
  {
   "cell_type": "code",
   "execution_count": 4,
   "metadata": {},
   "outputs": [],
   "source": [
    "profits = [13, 23]\n",
    "A = [[5, 15], # corn\n",
    "     [4, 4],  # hops\n",
    "     [35, 20]] # malt\n",
    "b = [480, 160, 1190]"
   ]
  },
  {
   "cell_type": "markdown",
   "metadata": {},
   "source": [
    "Since `linprog` _minimizes_ the objects, we need to negate it to turn the maximization problem into a minimization problem."
   ]
  },
  {
   "cell_type": "code",
   "execution_count": 5,
   "metadata": {},
   "outputs": [
    {
     "name": "stdout",
     "output_type": "stream",
     "text": [
      "Optimization terminated successfully.\n",
      "         Current function value: -800.000000 \n",
      "         Iterations: 2\n"
     ]
    }
   ],
   "source": [
    "res = linprog([-p for p in profits], A_ub=A, b_ub=b, options={\"disp\": True})"
   ]
  },
  {
   "cell_type": "code",
   "execution_count": 6,
   "metadata": {},
   "outputs": [
    {
     "data": {
      "text/plain": [
       "array([12., 28.])"
      ]
     },
     "execution_count": 6,
     "metadata": {},
     "output_type": "execute_result"
    }
   ],
   "source": [
    "res.x"
   ]
  },
  {
   "cell_type": "markdown",
   "metadata": {},
   "source": [
    "Hence, we produce the maximum profit of \\\\$800, by making 12 barrels of Ale and 28 barrels of Beer."
   ]
  },
  {
   "cell_type": "markdown",
   "metadata": {},
   "source": [
    "# Dual Problem\n",
    "\n",
    "The _Entrepreneur's Problem_ is to minimize the cost of ingredients. We can transpose the equation and switch the variables to be the cost of each ingredient:"
   ]
  },
  {
   "cell_type": "code",
   "execution_count": 12,
   "metadata": {},
   "outputs": [],
   "source": [
    "costs = [480, 160, 1190]\n",
    "A = [[-5, -4, -35],\n",
    "     [-15, -4, -20]]\n",
    "b = [-13, -23]"
   ]
  },
  {
   "cell_type": "code",
   "execution_count": 13,
   "metadata": {},
   "outputs": [
    {
     "name": "stdout",
     "output_type": "stream",
     "text": [
      "Optimization terminated successfully.\n",
      "         Current function value: 800.000000  \n",
      "         Iterations: 3\n"
     ]
    }
   ],
   "source": [
    "res = linprog(costs, A_ub=A, b_ub=b, options={\"disp\": True})"
   ]
  },
  {
   "cell_type": "code",
   "execution_count": 14,
   "metadata": {},
   "outputs": [
    {
     "data": {
      "text/plain": [
       "array([1., 2., 0.])"
      ]
     },
     "execution_count": 14,
     "metadata": {},
     "output_type": "execute_result"
    }
   ],
   "source": [
    "res.x"
   ]
  },
  {
   "cell_type": "markdown",
   "metadata": {},
   "source": [
    "So, the brewer would be willing to pay \\\\$1 for an additional unit of corn, \\\\$2 for an additional unit of hops, but nothing for more malt. (Of course, this is based on unrealistic assumptions that she has no way to do anything with the ingredients other than make ale or beer using the recipes given, and no other way to acquire additional ingredients.)"
   ]
  },
  {
   "cell_type": "markdown",
   "metadata": {},
   "source": [
    "# Network Flow\n",
    "\n",
    "**Objective:** Maximize the flow reaching the destination. This is the sum of the flows of the two links that reach the destination node $T$, $x_{CT} + x_{DT}$.\n",
    "\n",
    "**Contraints:** Each link has a capacity constraint. We also need flow constraints to ensure the incoming flow for each node is equal to its outgoing flow. The implicit bounds constraint ensures all flows are non-negative.\n",
    "\n",
    "$$𝑥_{𝑆𝐴} = 𝑥_{𝐴𝐶}$$\n",
    "$$𝑥_{𝐶𝑇} + 𝑥_{𝐶𝐵} =𝑥_{𝐴𝐶}$$\n",
    "$$𝑥_{𝑆𝐵}+𝑥_{𝐶B}=𝑥_{𝐵𝐷}+𝑥_{𝐵𝐶}$$\n",
    "$$𝑥_{𝐷𝑇}=x_{𝐵𝐷}$$\n"
   ]
  },
  {
   "cell_type": "code",
   "execution_count": 16,
   "metadata": {},
   "outputs": [],
   "source": [
    "# order: x_SA, x_SB, x_AC, x_BC, x_CB, X_CT, x_BD, x_DT\n",
    "flow = [0, 0, 0, 0, 0, 1, 0, 1]\n",
    "A =   [[1, 0, 0, 0, 0, 0, 0, 0],\n",
    "       [0, 1, 0, 0, 0, 0, 0, 0],\n",
    "       [0, 0, 1, 0, 0, 0, 0, 0],\n",
    "       [0, 0, 0, 1, 0, 0, 0, 0],\n",
    "       [0, 0, 0, 0, 1, 0, 0, 0],\n",
    "       [0, 0, 0, 0, 0, 1, 0, 0],\n",
    "       [0, 0, 0, 0, 0, 0, 1, 0],\n",
    "       [0, 0, 0, 0, 0, 0, 0, 1],\n",
    "      ]\n",
    "b =    [4, 2, 3, 2, 1, 2, 3, 4]\n",
    "\n",
    "Aeq = [[1, 0, -1, 0, 0, 0, 0, 0],\n",
    "       [0, 0, 1, 0, -1, -1, 0, 0],\n",
    "       [0, 1, 0, -1, 1, 0, -1, 0],\n",
    "       [0, 0, 0, 0, 0, 0, 1, -1]]\n",
    "beq = [0, 0, 0, 0]"
   ]
  },
  {
   "cell_type": "code",
   "execution_count": 74,
   "metadata": {},
   "outputs": [],
   "source": [
    "def invert(m): return [-x for x in m]"
   ]
  },
  {
   "cell_type": "code",
   "execution_count": 76,
   "metadata": {},
   "outputs": [
    {
     "name": "stdout",
     "output_type": "stream",
     "text": [
      "Optimization terminated successfully.\n",
      "         Current function value: -5.000000   \n",
      "         Iterations: 7\n"
     ]
    }
   ],
   "source": [
    "res = linprog(invert(flow), A_ub=A, b_ub=b, A_eq = Aeq, b_eq = beq, options={\"disp\": True}, method='simplex')"
   ]
  },
  {
   "cell_type": "code",
   "execution_count": 77,
   "metadata": {},
   "outputs": [
    {
     "data": {
      "text/plain": [
       "array([3., 2., 3., 0., 1., 2., 3., 3.])"
      ]
     },
     "execution_count": 77,
     "metadata": {},
     "output_type": "execute_result"
    }
   ],
   "source": [
    "res.x"
   ]
  },
  {
   "cell_type": "markdown",
   "metadata": {},
   "source": [
    "# Penalty Kicks\n",
    "\n",
    "**Objective:** Maximize the minimum payoff, $v$ (that is, likelihood of scoring, assuming goalkeeper follows the optimal strategy).\n",
    "\n",
    "**Constraints:** The probability of each option must make a probability distribution.\n",
    "$$ p_{L} + p_{C} + p_{R} = 1$$\n",
    "Constraints on weights and $v$ (see slides)"
   ]
  },
  {
   "cell_type": "code",
   "execution_count": 78,
   "metadata": {},
   "outputs": [],
   "source": [
    "payoff = [0, 0, 0, -1]\n",
    "Aeq = [[1, 1, 1, 0]]\n",
    "beq = [1.0]\n",
    "A = [[-0.2, -0.99, -0.98, 1],\n",
    "     [-0.99, -0.01, -0.98, 1],\n",
    "     [-0.90, -0.99, -0.40, 1]]\n",
    "b = [0, 0, 0]\n",
    "     "
   ]
  },
  {
   "cell_type": "code",
   "execution_count": 71,
   "metadata": {},
   "outputs": [
    {
     "name": "stdout",
     "output_type": "stream",
     "text": [
      "Optimization terminated successfully.\n",
      "         Current function value: -0.723799   \n",
      "         Iterations: 4\n"
     ]
    }
   ],
   "source": [
    "res = linprog(payoff, A_ub=A, b_ub=b, A_eq = Aeq, b_eq = beq, options={\"disp\": True}, method='simplex')"
   ]
  },
  {
   "cell_type": "code",
   "execution_count": 72,
   "metadata": {},
   "outputs": [
    {
     "data": {
      "text/plain": [
       "array([0.33189303, 0.26754642, 0.40056055, 0.7237989 ])"
      ]
     },
     "execution_count": 72,
     "metadata": {},
     "output_type": "execute_result"
    }
   ],
   "source": [
    "res.x"
   ]
  },
  {
   "cell_type": "markdown",
   "metadata": {},
   "source": [
    "So, we should kick for the center $\\approx 27\\%$ of the time.\n",
    "\n",
    "Why don't players do this? (Most likely, they are actually optimizing for both scoring and minimizing embarrassment when things go badly.)"
   ]
  }
 ],
 "metadata": {
  "kernelspec": {
   "display_name": "Python 3",
   "language": "python",
   "name": "python3"
  },
  "language_info": {
   "codemirror_mode": {
    "name": "ipython",
    "version": 3
   },
   "file_extension": ".py",
   "mimetype": "text/x-python",
   "name": "python",
   "nbconvert_exporter": "python",
   "pygments_lexer": "ipython3",
   "version": "3.7.1"
  }
 },
 "nbformat": 4,
 "nbformat_minor": 2
}
